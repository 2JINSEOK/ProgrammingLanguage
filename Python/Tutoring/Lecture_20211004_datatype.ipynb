{
 "cells": [
  {
   "cell_type": "markdown",
   "id": "adfc45c1",
   "metadata": {},
   "source": [
    "# string 복습\n",
    "- indexing\n",
    "- slicing\n",
    "- membership test (in, not in)\n",
    "-- ex) \"hello\" in \"hello world\" => True\n",
    "-- ex) \"hello\" not in \"hello world\" => False"
   ]
  },
  {
   "cell_type": "code",
   "execution_count": 5,
   "id": "0fbeabac",
   "metadata": {},
   "outputs": [
    {
     "name": "stdout",
     "output_type": "stream",
     "text": [
      "True\n",
      "True\n"
     ]
    }
   ],
   "source": [
    "s = \"Hello World\"\n",
    "\n",
    "\n",
    "# Q1. s안에 Hello 문자열이 있는지 확인하는 코드 작성\n",
    "# A1\n",
    "print(\"Hello\" in s)\n",
    "\n",
    "# Q2. s안에 Hello 문자열이 있는지 확인하는 코드 작성 (대소문자 구분 안함) \n",
    "print(\"hello\".upper() in s.upper())\n",
    "# hello, Hello, HELLO\n",
    "\n",
    "\n",
    "# hint\n",
    "# s.lower()\n",
    "# s.upper()"
   ]
  },
  {
   "cell_type": "code",
   "execution_count": 2,
   "id": "7cde08b0",
   "metadata": {},
   "outputs": [
    {
     "data": {
      "text/plain": [
       "'Abc'"
      ]
     },
     "execution_count": 2,
     "metadata": {},
     "output_type": "execute_result"
    }
   ],
   "source": [
    "s = \"abc\"\n",
    "# s[0] = 'A'\n",
    "\n",
    "s = 'A' + s[1:]\n",
    "s"
   ]
  },
  {
   "cell_type": "markdown",
   "id": "f1ac9066",
   "metadata": {},
   "source": [
    "# LIST, TUPLE, DICTIONARY (내장 자료형)"
   ]
  },
  {
   "cell_type": "code",
   "execution_count": 26,
   "id": "29ae60ac",
   "metadata": {},
   "outputs": [
    {
     "name": "stdout",
     "output_type": "stream",
     "text": [
      "<class 'list'>\n",
      "1\n",
      "a\n",
      "c\n",
      "[1, 2, 3]\n",
      "[1, 3, ['a', 'b', 'c']]\n",
      "['c', 'b', 'a']\n",
      "True\n",
      "False\n",
      "[1, 2, 3, 4, ['a', 'b', 'c'], 1, 2, 3, 4, ['a', 'b', 'c']]\n",
      "[1, 2, 3, 4, ['a', 'b', 'c'], 1, 2, 3, 4, ['a', 'b', 'c'], 1, 2, 3, 4, ['a', 'b', 'c'], 1, 2, 3, 4, ['a', 'b', 'c'], 1, 2, 3, 4, ['a', 'b', 'c'], 1, 2, 3, 4, ['a', 'b', 'c']]\n"
     ]
    }
   ],
   "source": [
    "# LIST\n",
    "# [], list()\n",
    "\n",
    "L = [1, 2, 3, 4, ['a', 'b', 'c']]\n",
    "print(type(L))\n",
    "\n",
    "print(L[0]) # indexing\n",
    "# 'a'\n",
    "print(L[4][0])\n",
    "\n",
    "# 'c'\n",
    "print(L[4][2])\n",
    "\n",
    "# [1, 2, 3]\n",
    "print(L[0:3]) # slicing\n",
    "\n",
    "# [1, 3, ['a', 'b', 'c']]\n",
    "print(L[::2])\n",
    "# 디폴트 \n",
    "# start - 0\n",
    "# stop - len()\n",
    "# step - 1\n",
    "\n",
    "# ['c', 'b', 'a']\n",
    "print(L[4][::-1])\n",
    "#e = L[4]\n",
    "#e[::-1]\n",
    "\n",
    "\n",
    "# 3 membership test\n",
    "print(3 in L)\n",
    "\n",
    "# 'a' membership\n",
    "print('a' in L)\n",
    "\n",
    "L = L + L\n",
    "print(L)\n",
    "\n",
    "L = L * 3 # (L + L + L)\n",
    "print(L)"
   ]
  },
  {
   "cell_type": "code",
   "execution_count": 32,
   "id": "a79502c9",
   "metadata": {},
   "outputs": [
    {
     "name": "stdout",
     "output_type": "stream",
     "text": [
      "[10, 2, 3]\n"
     ]
    }
   ],
   "source": [
    "# tuple\n",
    "# ()\n",
    "\n",
    "# list vs tuple\n",
    "# list -  mutable (수정 가능)\n",
    "# tuple - immutable (수정 가능) (상수적 특징이 있음)\n",
    "\n",
    "\n",
    "li = [1,2,3]\n",
    "li[0] = 10\n",
    "print(li)\n",
    "\n",
    "month = ('Jan', 'Feb', 'Mar')\n",
    "#month[0] = 'J'"
   ]
  },
  {
   "cell_type": "code",
   "execution_count": 33,
   "id": "321eca14",
   "metadata": {},
   "outputs": [
    {
     "name": "stdout",
     "output_type": "stream",
     "text": [
      "<class 'tuple'>\n"
     ]
    }
   ],
   "source": [
    "def calc(x, y):\n",
    "    return x + y, x - y # return tuple 1개\n",
    "\n",
    "t = calc(3, 5)\n",
    "print(type(t)) # tuple (8, -2)\n",
    "\n",
    "add, sub = calc(3, 5) # tuple unpacking \n",
    "# add = 8\n",
    "# sub = -2"
   ]
  },
  {
   "cell_type": "code",
   "execution_count": 40,
   "id": "baf485fb",
   "metadata": {},
   "outputs": [
    {
     "name": "stdout",
     "output_type": "stream",
     "text": [
      "Feb\n",
      "('Feb', 'Mar')\n",
      "True\n",
      "True\n"
     ]
    }
   ],
   "source": [
    "# indexing , slicing, membership, +, *\n",
    "\n",
    "# 'Feb'\n",
    "print(month[1])\n",
    "print(month[1:])\n",
    "\n",
    "# 'March'\n",
    "print(\"Mar\" in month)\n",
    "\n",
    "# month = ('Jan', 'Feb', 'Mar')\n",
    "month_upper = ['JAN', 'FEB', 'MAR']\n",
    "print(\"mar\".upper() in month_upper)"
   ]
  },
  {
   "cell_type": "code",
   "execution_count": 51,
   "id": "9d5f1607",
   "metadata": {},
   "outputs": [
    {
     "name": "stdout",
     "output_type": "stream",
     "text": [
      "<class 'dict'>\n",
      "kiwi\n",
      "{'a': 'apple', 'b': 'banana', 'k': 'kiwi', 'm': 'melon'}\n",
      "{'a': 'apple', 'b': 'banana', 'k': 'key', 'm': 'melon'}\n",
      "True\n",
      "True\n",
      "dict_keys(['a', 'b', 'k', 'm'])\n",
      "dict_values(['apple', 'banana', 'key', 'melon'])\n"
     ]
    }
   ],
   "source": [
    "# dict\n",
    "# 'a' - 'apple'\n",
    "# key    value\n",
    "\n",
    "# key : value search\n",
    "# {}, dict()\n",
    "\n",
    "d = {'a':'apple', 'b':'banana', 'k':'kiwi'}\n",
    "\n",
    "print(type(d))\n",
    "\n",
    "print(d['k']) # indexing\n",
    "d['m'] = 'melon' # element add\n",
    "\n",
    "print(d)\n",
    "\n",
    "d['k'] = 'key' # mutable\n",
    "print(d)\n",
    "\n",
    "print('a' in d.keys()) # key membership test\n",
    "print('banana' in d.values()) # value membership test\n",
    "\n",
    "print(d.keys())\n",
    "print(d.values())\n",
    "\n",
    "# dict vs list\n",
    "li = ['apple', 'banana', 'kiwi']\n",
    "# 'kiwi'\n",
    "# list -> index: integer\n",
    "# dict -> index: str, integer"
   ]
  },
  {
   "cell_type": "code",
   "execution_count": 46,
   "id": "ba02f065",
   "metadata": {},
   "outputs": [
    {
     "name": "stdout",
     "output_type": "stream",
     "text": [
      "h\n"
     ]
    },
    {
     "ename": "TypeError",
     "evalue": "'str' object does not support item assignment",
     "output_type": "error",
     "traceback": [
      "\u001b[1;31m---------------------------------------------------------------------------\u001b[0m",
      "\u001b[1;31mTypeError\u001b[0m                                 Traceback (most recent call last)",
      "\u001b[1;32m<ipython-input-46-54c88a0e55f8>\u001b[0m in \u001b[0;36m<module>\u001b[1;34m\u001b[0m\n\u001b[0;32m      1\u001b[0m \u001b[0ms\u001b[0m \u001b[1;33m=\u001b[0m \u001b[1;34m\"hello\"\u001b[0m\u001b[1;33m\u001b[0m\u001b[1;33m\u001b[0m\u001b[0m\n\u001b[0;32m      2\u001b[0m \u001b[0mprint\u001b[0m\u001b[1;33m(\u001b[0m\u001b[0ms\u001b[0m\u001b[1;33m[\u001b[0m\u001b[1;36m0\u001b[0m\u001b[1;33m]\u001b[0m\u001b[1;33m)\u001b[0m\u001b[1;33m\u001b[0m\u001b[1;33m\u001b[0m\u001b[0m\n\u001b[1;32m----> 3\u001b[1;33m \u001b[0ms\u001b[0m\u001b[1;33m[\u001b[0m\u001b[1;36m0\u001b[0m\u001b[1;33m]\u001b[0m \u001b[1;33m=\u001b[0m \u001b[1;34m'e'\u001b[0m\u001b[1;33m\u001b[0m\u001b[1;33m\u001b[0m\u001b[0m\n\u001b[0m\u001b[0;32m      4\u001b[0m \u001b[0mprint\u001b[0m\u001b[1;33m(\u001b[0m\u001b[0ms\u001b[0m\u001b[1;33m)\u001b[0m\u001b[1;33m\u001b[0m\u001b[1;33m\u001b[0m\u001b[0m\n",
      "\u001b[1;31mTypeError\u001b[0m: 'str' object does not support item assignment"
     ]
    }
   ],
   "source": [
    "s = \"hello\"\n",
    "print(s[0])\n",
    "s[0] = 'e'\n",
    "print(s)"
   ]
  },
  {
   "cell_type": "code",
   "execution_count": 47,
   "id": "8fb7ea51",
   "metadata": {},
   "outputs": [],
   "source": [
    "# mutable - list, dict\n",
    "# immutable - tuple, str"
   ]
  },
  {
   "cell_type": "code",
   "execution_count": 53,
   "id": "11c1072e",
   "metadata": {},
   "outputs": [
    {
     "name": "stdout",
     "output_type": "stream",
     "text": [
      "<class 'NoneType'>\n"
     ]
    }
   ],
   "source": [
    "# None - 값이 없음 (NULL)\n",
    "a = None\n",
    "print(type(a))"
   ]
  },
  {
   "cell_type": "code",
   "execution_count": null,
   "id": "2b813cc9",
   "metadata": {},
   "outputs": [],
   "source": []
  }
 ],
 "metadata": {
  "kernelspec": {
   "display_name": "Python 3",
   "language": "python",
   "name": "python3"
  },
  "language_info": {
   "codemirror_mode": {
    "name": "ipython",
    "version": 3
   },
   "file_extension": ".py",
   "mimetype": "text/x-python",
   "name": "python",
   "nbconvert_exporter": "python",
   "pygments_lexer": "ipython3",
   "version": "3.8.8"
  }
 },
 "nbformat": 4,
 "nbformat_minor": 5
}

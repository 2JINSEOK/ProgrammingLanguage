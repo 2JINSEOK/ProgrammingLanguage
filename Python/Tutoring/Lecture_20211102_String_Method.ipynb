{
 "cells": [
  {
   "cell_type": "code",
   "execution_count": 3,
   "id": "4614873d",
   "metadata": {},
   "outputs": [
    {
     "data": {
      "text/plain": [
       "'abc'"
      ]
     },
     "execution_count": 3,
     "metadata": {},
     "output_type": "execute_result"
    }
   ],
   "source": [
    "s = 'abc'\n",
    "s.upper()\n",
    "s.lower() # ***\n",
    "\n",
    "# yes, YES, yEs\n",
    "# no, NO"
   ]
  },
  {
   "cell_type": "code",
   "execution_count": 5,
   "id": "d61963f5",
   "metadata": {},
   "outputs": [
    {
     "data": {
      "text/plain": [
       "False"
      ]
     },
     "execution_count": 5,
     "metadata": {},
     "output_type": "execute_result"
    }
   ],
   "source": [
    "s = 'abc'\n",
    "s.islower()\n",
    "s.isupper()"
   ]
  },
  {
   "cell_type": "code",
   "execution_count": 7,
   "id": "9e3ed913",
   "metadata": {},
   "outputs": [
    {
     "data": {
      "text/plain": [
       "2"
      ]
     },
     "execution_count": 7,
     "metadata": {},
     "output_type": "execute_result"
    }
   ],
   "source": [
    "s = 'i like python and i like c'\n",
    "s.find('i like')\n",
    "s.count('i like')"
   ]
  },
  {
   "cell_type": "code",
   "execution_count": 13,
   "id": "d124ed4e",
   "metadata": {},
   "outputs": [
    {
     "data": {
      "text/plain": [
       "True"
      ]
     },
     "execution_count": 13,
     "metadata": {},
     "output_type": "execute_result"
    }
   ],
   "source": [
    "s.startswith('ilike')\n",
    "s.endswith('c')"
   ]
  },
  {
   "cell_type": "code",
   "execution_count": 18,
   "id": "601f0405",
   "metadata": {},
   "outputs": [
    {
     "data": {
      "text/plain": [
       "'abc<><><>'"
      ]
     },
     "execution_count": 18,
     "metadata": {},
     "output_type": "execute_result"
    }
   ],
   "source": [
    "s = '                             abc               '\n",
    "s.strip() # white space remove\n",
    "s.lstrip()\n",
    "s.rstrip()\n",
    "\n",
    "s = '<><><>abc<><><>'\n",
    "s.strip('<>') # '<>' remove\n",
    "s.lstrip('<>')"
   ]
  },
  {
   "cell_type": "code",
   "execution_count": 20,
   "id": "154414d7",
   "metadata": {},
   "outputs": [
    {
     "data": {
      "text/plain": [
       "'Hello world Hello'"
      ]
     },
     "execution_count": 20,
     "metadata": {},
     "output_type": "execute_result"
    }
   ],
   "source": [
    "s = 'hello world hello'\n",
    "s.replace('hello', 'Hello')"
   ]
  },
  {
   "cell_type": "code",
   "execution_count": null,
   "id": "8684ca39",
   "metadata": {},
   "outputs": [],
   "source": []
  }
 ],
 "metadata": {
  "kernelspec": {
   "display_name": "Python 3",
   "language": "python",
   "name": "python3"
  },
  "language_info": {
   "codemirror_mode": {
    "name": "ipython",
    "version": 3
   },
   "file_extension": ".py",
   "mimetype": "text/x-python",
   "name": "python",
   "nbconvert_exporter": "python",
   "pygments_lexer": "ipython3",
   "version": "3.8.8"
  }
 },
 "nbformat": 4,
 "nbformat_minor": 5
}

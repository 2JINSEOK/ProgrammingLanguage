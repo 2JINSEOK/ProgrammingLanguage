{
 "cells": [
  {
   "cell_type": "markdown",
   "id": "bdbfb352",
   "metadata": {},
   "source": [
    "# lambda function (람다 함수, 축약 함수)"
   ]
  },
  {
   "cell_type": "code",
   "execution_count": 1,
   "id": "7ee0c404",
   "metadata": {},
   "outputs": [],
   "source": [
    "def add(a, b):\n",
    "    return a + b"
   ]
  },
  {
   "cell_type": "code",
   "execution_count": 2,
   "id": "3d241327",
   "metadata": {},
   "outputs": [],
   "source": [
    "f = lambda a, b: a + b"
   ]
  },
  {
   "cell_type": "code",
   "execution_count": 3,
   "id": "2c5a1276",
   "metadata": {},
   "outputs": [
    {
     "data": {
      "text/plain": [
       "3"
      ]
     },
     "execution_count": 3,
     "metadata": {},
     "output_type": "execute_result"
    }
   ],
   "source": [
    "f(1, 2)"
   ]
  },
  {
   "cell_type": "code",
   "execution_count": 5,
   "id": "cde0369e",
   "metadata": {},
   "outputs": [],
   "source": [
    "f = lambda a, incr=1: a + incr"
   ]
  },
  {
   "cell_type": "code",
   "execution_count": 6,
   "id": "23aeac23",
   "metadata": {},
   "outputs": [
    {
     "name": "stdout",
     "output_type": "stream",
     "text": [
      "2\n",
      "3\n"
     ]
    }
   ],
   "source": [
    "print(f(1))\n",
    "print(f(1, 2))"
   ]
  },
  {
   "cell_type": "code",
   "execution_count": 12,
   "id": "2345fd55",
   "metadata": {},
   "outputs": [
    {
     "data": {
      "text/plain": [
       "()"
      ]
     },
     "execution_count": 12,
     "metadata": {},
     "output_type": "execute_result"
    }
   ],
   "source": [
    "f = lambda *args: args\n",
    "f()"
   ]
  },
  {
   "cell_type": "code",
   "execution_count": 13,
   "id": "b4101bb1",
   "metadata": {},
   "outputs": [
    {
     "data": {
      "text/plain": [
       "(0,)"
      ]
     },
     "execution_count": 13,
     "metadata": {},
     "output_type": "execute_result"
    }
   ],
   "source": [
    "f(0)"
   ]
  },
  {
   "cell_type": "code",
   "execution_count": 14,
   "id": "6bbe4758",
   "metadata": {},
   "outputs": [
    {
     "data": {
      "text/plain": [
       "(1, 2)"
      ]
     },
     "execution_count": 14,
     "metadata": {},
     "output_type": "execute_result"
    }
   ],
   "source": [
    "f(1,2)"
   ]
  },
  {
   "cell_type": "markdown",
   "id": "6628a18b",
   "metadata": {},
   "source": [
    "# lambda + map(function, seq (list, tuple ,str))"
   ]
  },
  {
   "cell_type": "code",
   "execution_count": 16,
   "id": "cf32ab24",
   "metadata": {},
   "outputs": [
    {
     "data": {
      "text/plain": [
       "[1, 4, 9, 16, 25]"
      ]
     },
     "execution_count": 16,
     "metadata": {},
     "output_type": "execute_result"
    }
   ],
   "source": [
    "def f(x):\n",
    "    return x * x\n",
    "\n",
    "X = [1, 2, 3, 4, 5]\n",
    "m = map(f, X)\n",
    "list(m)"
   ]
  },
  {
   "cell_type": "code",
   "execution_count": 17,
   "id": "33ec03c8",
   "metadata": {},
   "outputs": [
    {
     "data": {
      "text/plain": [
       "[1, 4, 9, 16, 25]"
      ]
     },
     "execution_count": 17,
     "metadata": {},
     "output_type": "execute_result"
    }
   ],
   "source": [
    "m = map(lambda x:x*x, X)\n",
    "list(m)"
   ]
  },
  {
   "cell_type": "code",
   "execution_count": 23,
   "id": "ed3a6707",
   "metadata": {},
   "outputs": [
    {
     "data": {
      "text/plain": [
       "'ABC'"
      ]
     },
     "execution_count": 23,
     "metadata": {},
     "output_type": "execute_result"
    }
   ],
   "source": [
    "# Q1. \"abc\", \"Abc\"\n",
    "\n",
    "s = \"abc\"\n",
    "U = list(map(lambda x:x.upper(),s))\n",
    "\n",
    "cstr = \"\"\n",
    "for i in range(len(U)):\n",
    "    N = U[i]\n",
    "    cstr += N\n",
    "cstr"
   ]
  },
  {
   "cell_type": "code",
   "execution_count": 18,
   "id": "72365b98",
   "metadata": {},
   "outputs": [
    {
     "data": {
      "text/plain": [
       "[1, 4, 9, 16, 25]"
      ]
     },
     "execution_count": 18,
     "metadata": {},
     "output_type": "execute_result"
    }
   ],
   "source": [
    "def mymap(f, X):\n",
    "    m = [0 for i in range(len(X))]\n",
    "    for i in range(len(X)):\n",
    "        m[i] = f(X[i])\n",
    "    return m\n",
    "            \n",
    "mymap(lambda x:x*x, [1, 2, 3, 4, 5])   "
   ]
  },
  {
   "cell_type": "code",
   "execution_count": 26,
   "id": "f7cd1482",
   "metadata": {},
   "outputs": [
    {
     "data": {
      "text/plain": [
       "'o'"
      ]
     },
     "execution_count": 26,
     "metadata": {},
     "output_type": "execute_result"
    }
   ],
   "source": [
    "# ['hello', 'python', 'c', 'c++']\n",
    "\n",
    "li = ['hello', 'python', 'c', 'c++']\n",
    "\n",
    "m = map(lambda x:[x,len(x)],li)\n",
    "m = list(m)\n",
    "\n",
    "m[1][0][-2]"
   ]
  },
  {
   "cell_type": "markdown",
   "id": "2456d22a",
   "metadata": {},
   "source": [
    "# lambda + filter(function, seq)"
   ]
  },
  {
   "cell_type": "code",
   "execution_count": 37,
   "id": "97fa6747",
   "metadata": {},
   "outputs": [
    {
     "data": {
      "text/plain": [
       "[0, 2, 4, 6, 8]"
      ]
     },
     "execution_count": 37,
     "metadata": {},
     "output_type": "execute_result"
    }
   ],
   "source": [
    "li = list(range(10))\n",
    "li\n",
    "\n",
    "f = filter(lambda x: x % 2 == 0, li)\n",
    "list(f)"
   ]
  },
  {
   "cell_type": "code",
   "execution_count": 38,
   "id": "a0bcfb7d",
   "metadata": {},
   "outputs": [
    {
     "data": {
      "text/plain": [
       "['hello', 'python']"
      ]
     },
     "execution_count": 38,
     "metadata": {},
     "output_type": "execute_result"
    }
   ],
   "source": [
    "li = ['hello', 'python', 'c', 'c++']\n",
    "f = filter(lambda x:'o' in x, li) # li -> sequence datatype (list, tuple, str)\n",
    "list(f)"
   ]
  },
  {
   "cell_type": "code",
   "execution_count": 40,
   "id": "d02f577d",
   "metadata": {},
   "outputs": [
    {
     "data": {
      "text/plain": [
       "['A', 'B', 'C', 'D', 'E', 'F']"
      ]
     },
     "execution_count": 40,
     "metadata": {},
     "output_type": "execute_result"
    }
   ],
   "source": [
    "s = 'abcABCdefDEF'\n",
    "f = filter(lambda x:x.isupper(), s)\n",
    "f = filter(lambda x:x < 'a', s)\n",
    "list(f)"
   ]
  },
  {
   "cell_type": "code",
   "execution_count": 30,
   "id": "d53a5b62",
   "metadata": {},
   "outputs": [
    {
     "data": {
      "text/plain": [
       "'abczABC'"
      ]
     },
     "execution_count": 30,
     "metadata": {},
     "output_type": "execute_result"
    }
   ],
   "source": [
    "s = 'abc123zABC@#'\n",
    "F = filter(lambda x:'a' <= x <= 'z' or 'A' <= x <= 'Z', s)\n",
    "\n",
    "# print(list(F))\n",
    "\"\".join(list(F)) # list -> str"
   ]
  },
  {
   "cell_type": "markdown",
   "id": "76069c0c",
   "metadata": {},
   "source": [
    "# lambda + reduce(function, seq)\n",
    "\n",
    "> ## python2에서는 내장 함수 O\n",
    "> ## python3에서는 내장 함수 X\n",
    ">> ### from functools import reduce"
   ]
  },
  {
   "cell_type": "code",
   "execution_count": 31,
   "id": "dc4b240f",
   "metadata": {},
   "outputs": [],
   "source": [
    "from functools import reduce"
   ]
  },
  {
   "cell_type": "code",
   "execution_count": 33,
   "id": "258fd037",
   "metadata": {},
   "outputs": [
    {
     "data": {
      "text/plain": [
       "115"
      ]
     },
     "execution_count": 33,
     "metadata": {},
     "output_type": "execute_result"
    }
   ],
   "source": [
    "r = reduce(lambda x, y:x + y, range(1, 6), 100)\n",
    "r"
   ]
  },
  {
   "cell_type": "code",
   "execution_count": 37,
   "id": "f1308b54",
   "metadata": {},
   "outputs": [
    {
     "data": {
      "text/plain": [
       "'a@b@c'"
      ]
     },
     "execution_count": 37,
     "metadata": {},
     "output_type": "execute_result"
    }
   ],
   "source": [
    "r = reduce(lambda x, y:x + y, ['a', 'b', 'c'], \"\") # \"\" + 'a' + 'b' + 'c'\n",
    "r # vs join()\n",
    "\n",
    "# python has no char data type\n",
    "# char '' (x)\n",
    "# string \"\", ''\n"
   ]
  },
  {
   "cell_type": "code",
   "execution_count": 38,
   "id": "fa8b6c2e",
   "metadata": {},
   "outputs": [
    {
     "data": {
      "text/plain": [
       "'cba'"
      ]
     },
     "execution_count": 38,
     "metadata": {},
     "output_type": "execute_result"
    }
   ],
   "source": [
    "r = reduce(lambda x, y:x + y, reversed(['a', 'b', 'c']), \"\")\n",
    "# 'cba'\n",
    "r"
   ]
  },
  {
   "cell_type": "code",
   "execution_count": 40,
   "id": "ddfda84c",
   "metadata": {},
   "outputs": [
    {
     "data": {
      "text/plain": [
       "'cba'"
      ]
     },
     "execution_count": 40,
     "metadata": {},
     "output_type": "execute_result"
    }
   ],
   "source": [
    "r = reduce(lambda x, y:y + x, ['a', 'b', 'c'], \"\")\n",
    "r"
   ]
  }
 ],
 "metadata": {
  "kernelspec": {
   "display_name": "Python 3",
   "language": "python",
   "name": "python3"
  },
  "language_info": {
   "codemirror_mode": {
    "name": "ipython",
    "version": 3
   },
   "file_extension": ".py",
   "mimetype": "text/x-python",
   "name": "python",
   "nbconvert_exporter": "python",
   "pygments_lexer": "ipython3",
   "version": "3.8.8"
  }
 },
 "nbformat": 4,
 "nbformat_minor": 5
}

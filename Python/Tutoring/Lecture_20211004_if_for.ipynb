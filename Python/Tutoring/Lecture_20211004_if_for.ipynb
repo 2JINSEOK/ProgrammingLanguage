{
 "cells": [
  {
   "cell_type": "markdown",
   "id": "1daacf22",
   "metadata": {},
   "source": [
    "# if (조건문) "
   ]
  },
  {
   "cell_type": "code",
   "execution_count": 9,
   "id": "60691090",
   "metadata": {},
   "outputs": [
    {
     "name": "stdout",
     "output_type": "stream",
     "text": [
      "a:1\n",
      "true\tsuccess!\n"
     ]
    }
   ],
   "source": [
    "a = 1\n",
    "\n",
    "\n",
    "if a == 1:\n",
    "    print('a:' + str(1)) \n",
    "    print('true', end='\\t')\n",
    "    print('success!')\n",
    "elif a == 2:\n",
    "    print('a:', 2, 'elif', 'ssss' , ',', 'dsasd')\n",
    "else:\n",
    "    print('else')"
   ]
  },
  {
   "cell_type": "code",
   "execution_count": 11,
   "id": "ab6e3907",
   "metadata": {},
   "outputs": [
    {
     "name": "stdout",
     "output_type": "stream",
     "text": [
      "10\n"
     ]
    }
   ],
   "source": [
    "def myabs(a):\n",
    "    if a < 0:\n",
    "        return -a\n",
    "    else:\n",
    "        return a\n",
    "\n",
    "i = -10\n",
    "print(myabs(i))"
   ]
  },
  {
   "cell_type": "markdown",
   "id": "e1ea173c",
   "metadata": {},
   "source": [
    "# for문"
   ]
  },
  {
   "cell_type": "code",
   "execution_count": 19,
   "id": "c477f1fa",
   "metadata": {},
   "outputs": [
    {
     "name": "stdout",
     "output_type": "stream",
     "text": [
      "a\n",
      "b\n",
      "c\n",
      "[0, 1, 2, 3, 4, 5, 6, 7, 8, 9]\n",
      "[1, 2, 3, 4, 5, 6, 7, 8, 9]\n",
      "[1, 3, 5, 7, 9]\n"
     ]
    }
   ],
   "source": [
    "li = ['a', 'b', 'c']\n",
    "\n",
    "\n",
    "# for each문\n",
    "for i in li:\n",
    "    print(i)\n",
    "    \n",
    "    \n",
    "# for + range(start, stop, step)\n",
    "# range(10) # 0 ~ 9\n",
    "# range(1, 10) # 1 ~ 9\n",
    "# range(1, 10, 2) # 1, 3, 5, 7, 9\n",
    "\n",
    "print(list(range(10))) # start - 0, stop - 10\n",
    "print(list(range(1, 10)))\n",
    "print(list(range(1, 10, 2)))\n",
    "\n",
    "# basic for through index\n",
    "for i in range(len(li)): # 0 ~ 2\n",
    "    print(li[i])"
   ]
  },
  {
   "cell_type": "code",
   "execution_count": 4,
   "id": "53a7ec06",
   "metadata": {},
   "outputs": [
    {
     "name": "stdout",
     "output_type": "stream",
     "text": [
      "1\n",
      "3\n",
      "5\n",
      "7\n",
      "9\n",
      "1\n",
      "3\n",
      "5\n",
      "7\n",
      "9\n"
     ]
    }
   ],
   "source": [
    "# 1 ~ 10중에 홀수만 출력\n",
    "\"\"\"\n",
    "asdasdas\n",
    "\"\"\"\n",
    "\n",
    "'''\n",
    "asdasdasdasd\n",
    "'''\n",
    "\n",
    "\n",
    "for i in range(1,6):\n",
    "    print(2*i-1)\n",
    "    \n",
    "for i in range(1, 11):\n",
    "    if i % 2 == 1:\n",
    "        print(i)"
   ]
  },
  {
   "cell_type": "code",
   "execution_count": 21,
   "id": "3012985d",
   "metadata": {},
   "outputs": [
    {
     "name": "stdout",
     "output_type": "stream",
     "text": [
      "True\n",
      "False\n",
      "False\n"
     ]
    }
   ],
   "source": [
    "li = ['apple', 'banana', 'kiwi']\n",
    "\n",
    "print('apple' in li)\n",
    "\n",
    "for i in range(len(li)):\n",
    "    if li[i] == 'lemon':\n",
    "        print('True')\n",
    "        break        \n",
    "else: # for문이 정상적으로 수행되었을 때\n",
    "    print('False')\n",
    "    \n",
    "for item in li:\n",
    "    if item == 'lemon':\n",
    "        print('True')\n",
    "        break        \n",
    "else: # for문이 정상적으로 수행되었을 때\n",
    "    print('False')"
   ]
  },
  {
   "cell_type": "code",
   "execution_count": 19,
   "id": "c8d3b884",
   "metadata": {},
   "outputs": [
    {
     "name": "stdout",
     "output_type": "stream",
     "text": [
      "False\n"
     ]
    }
   ],
   "source": [
    "def findVoca(li, voca): # voca: 'apple', 'lemon'\n",
    "    for i in range(len(li)):\n",
    "        if li[i] == voca:\n",
    "            return True\n",
    "    else:\n",
    "        return False\n",
    "\n",
    "li = ['apple', 'banana', 'kiwi']\n",
    "res = findVoca(li, 'lemon')\n",
    "print(res)"
   ]
  },
  {
   "cell_type": "code",
   "execution_count": 20,
   "id": "182d595c",
   "metadata": {},
   "outputs": [
    {
     "name": "stdout",
     "output_type": "stream",
     "text": [
      "False\n"
     ]
    }
   ],
   "source": [
    "li = [1, 2, 3]\n",
    "res = findVoca(li, 5)\n",
    "print(res)"
   ]
  },
  {
   "cell_type": "code",
   "execution_count": 27,
   "id": "10747305",
   "metadata": {},
   "outputs": [
    {
     "name": "stdout",
     "output_type": "stream",
     "text": [
      "0 1\n",
      "1 2\n",
      "2 3\n",
      "\n",
      "<class 'tuple'>\n",
      "0 1\n",
      "1 2\n",
      "2 3\n"
     ]
    }
   ],
   "source": [
    "li = [1, 2, 3]\n",
    "\n",
    "for i, item in enumerate(li): # ~~ 열거하다 (인덱스 + 원소값)\n",
    "    print(i, item)\n",
    "    \n",
    "print()\n",
    "\n",
    "li = 1, 2, 3\n",
    "print(type(li))\n",
    "\n",
    "for i, item in enumerate(li): # ~~ 열거하다 (인덱스 + 원소값)\n",
    "    print(i, item)\n",
    "    "
   ]
  },
  {
   "cell_type": "code",
   "execution_count": null,
   "id": "f2579577",
   "metadata": {},
   "outputs": [],
   "source": [
    "# pip install numpy, pandas, sklearn,, matplotlib"
   ]
  },
  {
   "cell_type": "code",
   "execution_count": 29,
   "id": "c33c136d",
   "metadata": {},
   "outputs": [
    {
     "name": "stdout",
     "output_type": "stream",
     "text": [
      "which one do you want to eat? (exit: q)ramen\n",
      "which one do you want to eat? (exit: q)q\n",
      "3000\n"
     ]
    }
   ],
   "source": [
    "dic = {'ramen': 3000, 'egg': 500, 'spam':1000}\n",
    "li = [3000, 500, 1000]\n",
    "\n",
    "price = 0\n",
    "\n",
    "while(True):\n",
    "    menu = input('which one do you want to eat? (exit: q)')\n",
    "    if menu == 'q':\n",
    "        break\n",
    "    price += dic[menu]\n",
    "    \n",
    "        \n",
    "print(price)    "
   ]
  },
  {
   "cell_type": "code",
   "execution_count": 34,
   "id": "4d2101da",
   "metadata": {},
   "outputs": [
    {
     "name": "stdout",
     "output_type": "stream",
     "text": [
      "2 * 1 = 2\n",
      "2 * 2 = 4\n",
      "2 * 3 = 6\n",
      "2 * 4 = 8\n",
      "2 * 5 = 10\n",
      "2 * 6 = 12\n",
      "2 * 7 = 14\n",
      "2 * 8 = 16\n",
      "2 * 9 = 18\n",
      "\n",
      "3 * 1 = 3\n",
      "3 * 2 = 6\n",
      "3 * 3 = 9\n",
      "3 * 4 = 12\n",
      "3 * 5 = 15\n",
      "3 * 6 = 18\n",
      "3 * 7 = 21\n",
      "3 * 8 = 24\n",
      "3 * 9 = 27\n",
      "\n",
      "4 * 1 = 4\n",
      "4 * 2 = 8\n",
      "4 * 3 = 12\n",
      "4 * 4 = 16\n",
      "4 * 5 = 20\n",
      "4 * 6 = 24\n",
      "4 * 7 = 28\n",
      "4 * 8 = 32\n",
      "4 * 9 = 36\n",
      "\n",
      "5 * 1 = 5\n",
      "5 * 2 = 10\n",
      "5 * 3 = 15\n",
      "5 * 4 = 20\n",
      "5 * 5 = 25\n",
      "5 * 6 = 30\n",
      "5 * 7 = 35\n",
      "5 * 8 = 40\n",
      "5 * 9 = 45\n",
      "\n",
      "6 * 1 = 6\n",
      "6 * 2 = 12\n",
      "6 * 3 = 18\n",
      "6 * 4 = 24\n",
      "6 * 5 = 30\n",
      "6 * 6 = 36\n",
      "6 * 7 = 42\n",
      "6 * 8 = 48\n",
      "6 * 9 = 54\n",
      "\n",
      "7 * 1 = 7\n",
      "7 * 2 = 14\n",
      "7 * 3 = 21\n",
      "7 * 4 = 28\n",
      "7 * 5 = 35\n",
      "7 * 6 = 42\n",
      "7 * 7 = 49\n",
      "7 * 8 = 56\n",
      "7 * 9 = 63\n",
      "\n",
      "8 * 1 = 8\n",
      "8 * 2 = 16\n",
      "8 * 3 = 24\n",
      "8 * 4 = 32\n",
      "8 * 5 = 40\n",
      "8 * 6 = 48\n",
      "8 * 7 = 56\n",
      "8 * 8 = 64\n",
      "8 * 9 = 72\n",
      "\n",
      "9 * 1 = 9\n",
      "9 * 2 = 18\n",
      "9 * 3 = 27\n",
      "9 * 4 = 36\n",
      "9 * 5 = 45\n",
      "9 * 6 = 54\n",
      "9 * 7 = 63\n",
      "9 * 8 = 72\n",
      "9 * 9 = 81\n",
      "\n",
      "2 * 1 = 2\n",
      "2 * 2 = 4\n",
      "2 * 3 = 6\n",
      "2 * 4 = 8\n",
      "2 * 5 = 10\n",
      "2 * 6 = 12\n",
      "2 * 7 = 14\n",
      "2 * 8 = 16\n",
      "2 * 9 = 18\n",
      "\n",
      "3 * 1 = 3\n",
      "3 * 2 = 6\n",
      "3 * 3 = 9\n",
      "3 * 4 = 12\n",
      "3 * 5 = 15\n",
      "3 * 6 = 18\n",
      "3 * 7 = 21\n",
      "3 * 8 = 24\n",
      "3 * 9 = 27\n",
      "\n",
      "4 * 1 = 4\n",
      "4 * 2 = 8\n",
      "4 * 3 = 12\n",
      "4 * 4 = 16\n",
      "4 * 5 = 20\n",
      "4 * 6 = 24\n",
      "4 * 7 = 28\n",
      "4 * 8 = 32\n",
      "4 * 9 = 36\n",
      "\n",
      "5 * 1 = 5\n",
      "5 * 2 = 10\n",
      "5 * 3 = 15\n",
      "5 * 4 = 20\n",
      "5 * 5 = 25\n",
      "5 * 6 = 30\n",
      "5 * 7 = 35\n",
      "5 * 8 = 40\n",
      "5 * 9 = 45\n",
      "\n",
      "6 * 1 = 6\n",
      "6 * 2 = 12\n",
      "6 * 3 = 18\n",
      "6 * 4 = 24\n",
      "6 * 5 = 30\n",
      "6 * 6 = 36\n",
      "6 * 7 = 42\n",
      "6 * 8 = 48\n",
      "6 * 9 = 54\n",
      "\n",
      "7 * 1 = 7\n",
      "7 * 2 = 14\n",
      "7 * 3 = 21\n",
      "7 * 4 = 28\n",
      "7 * 5 = 35\n",
      "7 * 6 = 42\n",
      "7 * 7 = 49\n",
      "7 * 8 = 56\n",
      "7 * 9 = 63\n",
      "\n",
      "8 * 1 = 8\n",
      "8 * 2 = 16\n",
      "8 * 3 = 24\n",
      "8 * 4 = 32\n",
      "8 * 5 = 40\n",
      "8 * 6 = 48\n",
      "8 * 7 = 56\n",
      "8 * 8 = 64\n",
      "8 * 9 = 72\n",
      "\n",
      "9 * 1 = 9\n",
      "9 * 2 = 18\n",
      "9 * 3 = 27\n",
      "9 * 4 = 36\n",
      "9 * 5 = 45\n",
      "9 * 6 = 54\n",
      "9 * 7 = 63\n",
      "9 * 8 = 72\n",
      "9 * 9 = 81\n",
      "\n",
      "2 * 1 = 2\n",
      "2 * 2 = 4\n",
      "2 * 3 = 6\n",
      "2 * 4 = 8\n",
      "2 * 5 = 10\n",
      "2 * 6 = 12\n",
      "2 * 7 = 14\n",
      "2 * 8 = 16\n",
      "2 * 9 = 18\n",
      "\n",
      "3 * 1 = 3\n",
      "3 * 2 = 6\n",
      "3 * 3 = 9\n",
      "3 * 4 = 12\n",
      "3 * 5 = 15\n",
      "3 * 6 = 18\n",
      "3 * 7 = 21\n",
      "3 * 8 = 24\n",
      "3 * 9 = 27\n",
      "\n",
      "4 * 1 = 4\n",
      "4 * 2 = 8\n",
      "4 * 3 = 12\n",
      "4 * 4 = 16\n",
      "4 * 5 = 20\n",
      "4 * 6 = 24\n",
      "4 * 7 = 28\n",
      "4 * 8 = 32\n",
      "4 * 9 = 36\n",
      "\n",
      "5 * 1 = 5\n",
      "5 * 2 = 10\n",
      "5 * 3 = 15\n",
      "5 * 4 = 20\n",
      "5 * 5 = 25\n",
      "5 * 6 = 30\n",
      "5 * 7 = 35\n",
      "5 * 8 = 40\n",
      "5 * 9 = 45\n",
      "\n",
      "6 * 1 = 6\n",
      "6 * 2 = 12\n",
      "6 * 3 = 18\n",
      "6 * 4 = 24\n",
      "6 * 5 = 30\n",
      "6 * 6 = 36\n",
      "6 * 7 = 42\n",
      "6 * 8 = 48\n",
      "6 * 9 = 54\n",
      "\n",
      "7 * 1 = 7\n",
      "7 * 2 = 14\n",
      "7 * 3 = 21\n",
      "7 * 4 = 28\n",
      "7 * 5 = 35\n",
      "7 * 6 = 42\n",
      "7 * 7 = 49\n",
      "7 * 8 = 56\n",
      "7 * 9 = 63\n",
      "\n",
      "8 * 1 = 8\n",
      "8 * 2 = 16\n",
      "8 * 3 = 24\n",
      "8 * 4 = 32\n",
      "8 * 5 = 40\n",
      "8 * 6 = 48\n",
      "8 * 7 = 56\n",
      "8 * 8 = 64\n",
      "8 * 9 = 72\n",
      "\n",
      "9 * 1 = 9\n",
      "9 * 2 = 18\n",
      "9 * 3 = 27\n",
      "9 * 4 = 36\n",
      "9 * 5 = 45\n",
      "9 * 6 = 54\n",
      "9 * 7 = 63\n",
      "9 * 8 = 72\n",
      "9 * 9 = 81\n",
      "\n"
     ]
    }
   ],
   "source": [
    "# 구구단 출력\n",
    "# 단; 2 ~ 9\n",
    "# 곱해지는 수 : 1 ~ 9\n",
    "\n",
    "for i in range(2, 10):\n",
    "    for j in range(1, 10):\n",
    "        print(i, '*', j ,'=',i*j)\n",
    "    print()    \n",
    "    \n",
    "    \n",
    "for i in range(2, 10):\n",
    "    for j in range(1, 10):\n",
    "        print(\"%d * %d = %d\" % (i, j, i*j))\n",
    "    print()   \n",
    "    \n",
    "    \n",
    "for i in range(2, 10):\n",
    "    for j in range(1, 10):\n",
    "        print(\"{0} * {1} = {2}\".format(i, j, i*j))\n",
    "    print()   "
   ]
  },
  {
   "cell_type": "code",
   "execution_count": 36,
   "id": "cb6439c9",
   "metadata": {},
   "outputs": [
    {
     "name": "stdout",
     "output_type": "stream",
     "text": [
      "int ? 2\n",
      "2\n",
      "int ? 4\n",
      "4\n",
      "int ? 5\n",
      "fail\n"
     ]
    }
   ],
   "source": [
    "\n",
    "# where statment\n",
    "# 1. initialize\n",
    "# 2. condition\n",
    "# 3. increase/decrease\n",
    "\n",
    "i = 0\n",
    "\n",
    "while i < 10:\n",
    "    x = int(input('int ? '))\n",
    "    if(x % 2): \n",
    "        print('fail'); break\n",
    "    print(x)\n",
    "else:\n",
    "    print('success!')"
   ]
  },
  {
   "cell_type": "code",
   "execution_count": 40,
   "id": "437d23cb",
   "metadata": {},
   "outputs": [
    {
     "data": {
      "text/plain": [
       "2"
      ]
     },
     "execution_count": 40,
     "metadata": {},
     "output_type": "execute_result"
    }
   ],
   "source": [
    "# fibonacci \n",
    "# 0 1 1 2 3 5 8\n",
    "# 0 1 2 3 4 \n",
    "# fibo(2) -> 1\n",
    "\n",
    "\n",
    "def fibo(n):\n",
    "    res = []\n",
    "    res.append(0)\n",
    "    res.append(1)\n",
    "    \n",
    "    for i in range(2, n+1):\n",
    "        add =  res[i-1] + res[i-2]\n",
    "        res.append(add)\n",
    "    return res[n]\n",
    "\n",
    "fibo(3)"
   ]
  },
  {
   "cell_type": "code",
   "execution_count": 43,
   "id": "3b9f7643",
   "metadata": {},
   "outputs": [
    {
     "name": "stdout",
     "output_type": "stream",
     "text": [
      "[0, 0, 0, 0]\n"
     ]
    },
    {
     "data": {
      "text/plain": [
       "2"
      ]
     },
     "execution_count": 43,
     "metadata": {},
     "output_type": "execute_result"
    }
   ],
   "source": [
    "def fibo(n):\n",
    "    res = [0 for i in range(n+1)] # 0 ~ n - 1\n",
    "    print(res)\n",
    "    res[0] = 0\n",
    "    res[1] = 1\n",
    "    \n",
    "    for i in range(2, n+1):\n",
    "        res[i] =  res[i-1] + res[i-2]\n",
    "    return res[n]\n",
    "\n",
    "fibo(3)"
   ]
  },
  {
   "cell_type": "code",
   "execution_count": 44,
   "id": "8ab36ebc",
   "metadata": {},
   "outputs": [
    {
     "data": {
      "text/plain": [
       "2"
      ]
     },
     "execution_count": 44,
     "metadata": {},
     "output_type": "execute_result"
    }
   ],
   "source": [
    "def fibo(n):\n",
    "    a = 0 # 0번째 항\n",
    "    b = 1 # 1번째 항\n",
    "    \n",
    "    for i in range(2, n+1):\n",
    "        c = a + b\n",
    "        a = b\n",
    "        b = c\n",
    "    return c\n",
    "\n",
    "fibo(3)"
   ]
  },
  {
   "cell_type": "code",
   "execution_count": 45,
   "id": "0c463d7d",
   "metadata": {},
   "outputs": [
    {
     "data": {
      "text/plain": [
       "2"
      ]
     },
     "execution_count": 45,
     "metadata": {},
     "output_type": "execute_result"
    }
   ],
   "source": [
    "# recursive function (재귀 함수)\n",
    "# 가독성이 더 좋지만 오래걸림 (n이 커질수록 중복 계산이 많아짐)\n",
    "\n",
    "def fibo(n):\n",
    "    # exit condition (종료 구문)\n",
    "    if n == 0: return 0\n",
    "    if n == 1: return 1\n",
    "    \n",
    "    # recursive call (재귀 호출)\n",
    "    return fibo(n-1) + fibo(n-2) # recursive\n",
    "\n",
    "fibo(3)"
   ]
  },
  {
   "cell_type": "code",
   "execution_count": 48,
   "id": "2b23f7df",
   "metadata": {},
   "outputs": [
    {
     "data": {
      "text/plain": [
       "15"
      ]
     },
     "execution_count": 48,
     "metadata": {},
     "output_type": "execute_result"
    }
   ],
   "source": [
    "# for sum (1 ~ n)\n",
    "\n",
    "def sum(n):\n",
    "    res = 0\n",
    "    for i in range(1, n+1):\n",
    "        res += i\n",
    "    \n",
    "    return res\n",
    "\n",
    "sum(5)"
   ]
  },
  {
   "cell_type": "code",
   "execution_count": 49,
   "id": "67a4b660",
   "metadata": {},
   "outputs": [
    {
     "data": {
      "text/plain": [
       "15"
      ]
     },
     "execution_count": 49,
     "metadata": {},
     "output_type": "execute_result"
    }
   ],
   "source": [
    "# recursive sum (1 ~ n)\n",
    "def sum(n):\n",
    "    if n == 0: return 0   \n",
    "    return sum(n - 1) + n\n",
    "\n",
    "sum(5)"
   ]
  },
  {
   "cell_type": "code",
   "execution_count": 53,
   "id": "ae86afee",
   "metadata": {},
   "outputs": [
    {
     "data": {
      "text/plain": [
       "4"
      ]
     },
     "execution_count": 53,
     "metadata": {},
     "output_type": "execute_result"
    }
   ],
   "source": [
    "def incr(a, step=1):\n",
    "    return a + step\n",
    "\n",
    "incr(3) # 3 + 1\n",
    "incr(5, 2) # 5 + 2"
   ]
  },
  {
   "cell_type": "code",
   "execution_count": 54,
   "id": "1a80b5ca",
   "metadata": {},
   "outputs": [
    {
     "ename": "SyntaxError",
     "evalue": "non-default argument follows default argument (<ipython-input-54-eb12168530bd>, line 1)",
     "output_type": "error",
     "traceback": [
      "\u001b[1;36m  File \u001b[1;32m\"<ipython-input-54-eb12168530bd>\"\u001b[1;36m, line \u001b[1;32m1\u001b[0m\n\u001b[1;33m    def incr(step=1, a):\u001b[0m\n\u001b[1;37m             ^\u001b[0m\n\u001b[1;31mSyntaxError\u001b[0m\u001b[1;31m:\u001b[0m non-default argument follows default argument\n"
     ]
    }
   ],
   "source": [
    "def incr(step=1, a=10):\n",
    "    return a + step\n",
    "\n",
    "incr(5) # 5 + 10"
   ]
  },
  {
   "cell_type": "code",
   "execution_count": 56,
   "id": "1200164e",
   "metadata": {},
   "outputs": [
    {
     "data": {
      "text/plain": [
       "8"
      ]
     },
     "execution_count": 56,
     "metadata": {},
     "output_type": "execute_result"
    }
   ],
   "source": [
    "def add(start, end):\n",
    "    return start + end\n",
    "\n",
    "add(end=3, start=5) # better in complex function call\n",
    "add(3, 5) # START=3, END=5"
   ]
  },
  {
   "cell_type": "code",
   "execution_count": 60,
   "id": "32687bab",
   "metadata": {},
   "outputs": [
    {
     "name": "stdout",
     "output_type": "stream",
     "text": [
      "<class 'tuple'>\n",
      "\n",
      "<class 'tuple'>\n",
      "1\n",
      "\n",
      "<class 'tuple'>\n",
      "1\n",
      "2\n",
      "\n"
     ]
    }
   ],
   "source": [
    "def func(*arg): # variable arugment (가변 인자)\n",
    "    print(type(arg))\n",
    "    \n",
    "    for i in arg:\n",
    "        print(i)\n",
    "    print()\n",
    "\n",
    "func() # arg = ()\n",
    "func(1) # arg = (1)\n",
    "func(1, 2) # arg = (1,2)"
   ]
  },
  {
   "cell_type": "code",
   "execution_count": 63,
   "id": "e1ef958e",
   "metadata": {},
   "outputs": [
    {
     "data": {
      "text/plain": [
       "1"
      ]
     },
     "execution_count": 63,
     "metadata": {},
     "output_type": "execute_result"
    }
   ],
   "source": [
    "def add(*arg):\n",
    "    sum = 0\n",
    "    for i in arg:\n",
    "        sum += i\n",
    "    return sum\n",
    "\n",
    "add(1)"
   ]
  },
  {
   "cell_type": "code",
   "execution_count": null,
   "id": "6bec5ed1",
   "metadata": {},
   "outputs": [],
   "source": []
  }
 ],
 "metadata": {
  "kernelspec": {
   "display_name": "Python 3",
   "language": "python",
   "name": "python3"
  },
  "language_info": {
   "codemirror_mode": {
    "name": "ipython",
    "version": 3
   },
   "file_extension": ".py",
   "mimetype": "text/x-python",
   "name": "python",
   "nbconvert_exporter": "python",
   "pygments_lexer": "ipython3",
   "version": "3.8.8"
  }
 },
 "nbformat": 4,
 "nbformat_minor": 5
}

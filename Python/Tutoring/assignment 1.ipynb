{
 "cells": [
  {
   "cell_type": "code",
   "execution_count": 8,
   "id": "bf4c4ace",
   "metadata": {},
   "outputs": [
    {
     "name": "stdout",
     "output_type": "stream",
     "text": [
      "Python Hello \n"
     ]
    }
   ],
   "source": [
    "a=\"Hello Python\"\n",
    "a=a[0:5] + ' ' + a[6:13]\n",
    "print(a)"
   ]
  },
  {
   "cell_type": "code",
   "execution_count": 12,
   "id": "85a9f929",
   "metadata": {},
   "outputs": [
    {
     "name": "stdout",
     "output_type": "stream",
     "text": [
      "World Python Hello\n"
     ]
    }
   ],
   "source": [
    "b=\"Hello Python World\"\n",
    "b=b[13:20]+' '+b[6:12]+' '+b[0:5]\n",
    "print(b)"
   ]
  },
  {
   "cell_type": "code",
   "execution_count": 15,
   "id": "7e7996e7",
   "metadata": {},
   "outputs": [
    {
     "name": "stdout",
     "output_type": "stream",
     "text": [
      "olleH\n"
     ]
    }
   ],
   "source": [
    "c=\"Hello\"\n",
    "c = c[::-1]\n",
    "print(c)"
   ]
  },
  {
   "cell_type": "code",
   "execution_count": 2,
   "id": "f8a2c5da",
   "metadata": {},
   "outputs": [
    {
     "name": "stdout",
     "output_type": "stream",
     "text": [
      "p\n",
      "\n",
      "p\n",
      "\n",
      "p\n",
      "4\n",
      "[4, 5]\n"
     ]
    },
    {
     "ename": "IndexError",
     "evalue": "string index out of range",
     "output_type": "error",
     "traceback": [
      "\u001b[1;31m---------------------------------------------------------------------------\u001b[0m",
      "\u001b[1;31mIndexError\u001b[0m                                Traceback (most recent call last)",
      "\u001b[1;32m<ipython-input-2-dd9e674308b6>\u001b[0m in \u001b[0;36m<module>\u001b[1;34m\u001b[0m\n\u001b[0;32m     15\u001b[0m \u001b[1;33m\u001b[0m\u001b[0m\n\u001b[0;32m     16\u001b[0m \u001b[1;31m# 2\u001b[0m\u001b[1;33m\u001b[0m\u001b[1;33m\u001b[0m\u001b[1;33m\u001b[0m\u001b[0m\n\u001b[1;32m---> 17\u001b[1;33m \u001b[0mprint\u001b[0m\u001b[1;33m(\u001b[0m\u001b[0ms\u001b[0m\u001b[1;33m[\u001b[0m\u001b[1;33m-\u001b[0m\u001b[1;36m100\u001b[0m\u001b[1;33m]\u001b[0m\u001b[1;33m)\u001b[0m\u001b[1;33m\u001b[0m\u001b[1;33m\u001b[0m\u001b[0m\n\u001b[0m\u001b[0;32m     18\u001b[0m \u001b[1;31m# 에러 발생, 스트링 인덱스가 범위를 벗어남...?, 총 문자의 개수가 100글자가 안 되기 때문?\u001b[0m\u001b[1;33m\u001b[0m\u001b[1;33m\u001b[0m\u001b[1;33m\u001b[0m\u001b[0m\n\u001b[0;32m     19\u001b[0m \u001b[0mprint\u001b[0m\u001b[1;33m(\u001b[0m\u001b[0ms\u001b[0m\u001b[1;33m[\u001b[0m\u001b[1;36m100\u001b[0m\u001b[1;33m]\u001b[0m\u001b[1;33m)\u001b[0m\u001b[1;33m\u001b[0m\u001b[1;33m\u001b[0m\u001b[0m\n",
      "\u001b[1;31mIndexError\u001b[0m: string index out of range"
     ]
    }
   ],
   "source": [
    "s=\"python\"\n",
    "# 1\n",
    "print(s[0])\n",
    "print()\n",
    "print(s[0][0])\n",
    "# 두 번째 행의 원소가 없어서?\n",
    "print()\n",
    "print(s[0][0][0])\n",
    "\n",
    "li = [1, 2, 3, [4, 5]]\n",
    "# digit 4\n",
    "print(li[3][0])\n",
    "\n",
    "print(li[3]) # [4, 5]\n",
    "\n",
    "# 2\n",
    "print(s[-100]) # indexing\n",
    "# 에러 발생, 스트링 인덱스가 범위를 벗어남...?, 총 문자의 개수가 100글자가 안 되기 때문?\n",
    "print(s[100])\n",
    "# 에러 발생, 마찬가지로 문자의 총 개수가 100개를 안 넘기 때문 인 것 같다\n",
    "\n",
    "# 3\n",
    "print(s[-100:100]) # slicing\n",
    "# 에러 발생, 문자의 길이가 범위를 벗어났기 때문"
   ]
  },
  {
   "cell_type": "code",
   "execution_count": 21,
   "id": "9d7eac5a",
   "metadata": {},
   "outputs": [
    {
     "name": "stdout",
     "output_type": "stream",
     "text": [
      "ytho\n"
     ]
    }
   ],
   "source": [
    "# 4\n",
    "\n",
    "s=\"python\"\n",
    "print(s[1:-1])\n",
    "# s[1] 에서 시작하여 s[-1]까지 출력하는 데, 끝 번호는 포함하지 않기 때문"
   ]
  },
  {
   "cell_type": "code",
   "execution_count": 3,
   "id": "98719adf",
   "metadata": {},
   "outputs": [
    {
     "name": "stdout",
     "output_type": "stream",
     "text": [
      "\n",
      "h\n",
      "h\n"
     ]
    }
   ],
   "source": [
    "# 5\n",
    "s=\"python\"\n",
    "print(s[3:-3]) # 3 ~ -4\n",
    "print(s[3])\n",
    "print(s[-3])"
   ]
  },
  {
   "cell_type": "code",
   "execution_count": 30,
   "id": "f211e450",
   "metadata": {},
   "outputs": [
    {
     "name": "stdout",
     "output_type": "stream",
     "text": [
      "\n"
     ]
    }
   ],
   "source": [
    "s=\"python\"\n",
    "print(s[3:-3])"
   ]
  },
  {
   "cell_type": "code",
   "execution_count": 4,
   "id": "69c71cbb",
   "metadata": {},
   "outputs": [
    {
     "name": "stdout",
     "output_type": "stream",
     "text": [
      "정수를 입력하시오 : 4567\n",
      "숫자 역순은 7654 입니다.\n",
      "<class 'str'>\n"
     ]
    }
   ],
   "source": [
    "number = input(\"정수를 입력하시오 : \") # \"4567\"\n",
    "print(\"숫자 역순은 %s 입니다.\"%(number[::-1]))\n",
    "\n",
    "print(type(number)) # str"
   ]
  },
  {
   "cell_type": "code",
   "execution_count": 5,
   "id": "c192b082",
   "metadata": {},
   "outputs": [
    {
     "name": "stdout",
     "output_type": "stream",
     "text": [
      "<class 'int'>\n",
      "<class 'str'>\n"
     ]
    }
   ],
   "source": [
    "a = 1 # a: int\n",
    "print(type(a))\n",
    "\n",
    "\n",
    "a = 'abc' # a: str\n",
    "print(type(a))"
   ]
  },
  {
   "cell_type": "code",
   "execution_count": null,
   "id": "0eee0308",
   "metadata": {},
   "outputs": [],
   "source": []
  }
 ],
 "metadata": {
  "kernelspec": {
   "display_name": "Python 3",
   "language": "python",
   "name": "python3"
  },
  "language_info": {
   "codemirror_mode": {
    "name": "ipython",
    "version": 3
   },
   "file_extension": ".py",
   "mimetype": "text/x-python",
   "name": "python",
   "nbconvert_exporter": "python",
   "pygments_lexer": "ipython3",
   "version": "3.8.8"
  }
 },
 "nbformat": 4,
 "nbformat_minor": 5
}

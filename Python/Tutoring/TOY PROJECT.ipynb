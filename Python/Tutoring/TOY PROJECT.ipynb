{
 "cells": [
  {
   "cell_type": "code",
   "execution_count": 1,
   "id": "46a65527",
   "metadata": {},
   "outputs": [
    {
     "data": {
      "text/plain": [
       "'\\n1. 숫자 입력받기\\n2. 입력받은 숫자 사이즈만큼의 리스트 생성\\n(빈리스트를 만들고 for)\\n3. for문 돌면서 리스트에 입력받기\\n4. enumerate 활용?\\n'"
      ]
     },
     "execution_count": 1,
     "metadata": {},
     "output_type": "execute_result"
    }
   ],
   "source": [
    "\"\"\"\n",
    "1. 숫자 입력받기\n",
    "2. 입력받은 숫자 사이즈만큼의 리스트 생성\n",
    "(빈리스트를 만들고 for)\n",
    "3. for문 돌면서 리스트에 입력받기\n",
    "4. enumerate 활용?\n",
    "\"\"\""
   ]
  },
  {
   "cell_type": "code",
   "execution_count": 14,
   "id": "e2589512",
   "metadata": {},
   "outputs": [
    {
     "name": "stdout",
     "output_type": "stream",
     "text": [
      "몇 명의 학생이 있습니까?5명\n",
      "<class 'int'>\n"
     ]
    }
   ],
   "source": [
    "number = (input(\"몇 명의 학생이 있습니까?\"))\n",
    "number = int(number[:-1])\n",
    "\n",
    "print(type(number))\n",
    "# 5명"
   ]
  },
  {
   "cell_type": "code",
   "execution_count": 3,
   "id": "b9987bd4",
   "metadata": {},
   "outputs": [
    {
     "name": "stdout",
     "output_type": "stream",
     "text": [
      "1번 학생에 대한 성적을 입력하시오 : 90\n",
      "2번 학생에 대한 성적을 입력하시오 : 70\n",
      "3번 학생에 대한 성적을 입력하시오 : 65\n",
      "4번 학생에 대한 성적을 입력하시오 : 80\n",
      "5번 학생에 대한 성적을 입력하시오 : 100\n"
     ]
    }
   ],
   "source": [
    "\"\"\"\n",
    "1. n번 학생 표시하는 법\n",
    "2. total_score의 초기화 작업이 필요한지\n",
    "\"\"\"\n",
    "score_list = []\n",
    "score_list2 = [0 for i in range(number)] # 리스트 내포법\n",
    "# [0, 0, 0, 0, 0]\n",
    "total_score = 0\n",
    "\n",
    "# for-each문\n",
    "# for i in list\n",
    "\n",
    "for i in range(number):\n",
    "    #ndex = i+1\n",
    "    score = int(input(\"%d번 학생에 대한 성적을 입력하시오 : \" % i+1))\n",
    "    #왜 여기서 0부터 시작?\n",
    "    #score_list.append(score)\n",
    "    score_list2[i] = score\n",
    "    total_score += score"
   ]
  },
  {
   "cell_type": "code",
   "execution_count": 15,
   "id": "d3d6037e",
   "metadata": {},
   "outputs": [
    {
     "name": "stdout",
     "output_type": "stream",
     "text": [
      "성적의 평균은 81.000000점 입니다\n"
     ]
    }
   ],
   "source": [
    "\"\"\"\n",
    "1. %d 처럼 점수 넣는 법\n",
    "\"\"\"\n",
    "avg_score = total_score / number\n",
    "print(\"성적의 평균은 %f점 입니다\" % (avg_score))"
   ]
  },
  {
   "cell_type": "code",
   "execution_count": 19,
   "id": "90d7dbc7",
   "metadata": {},
   "outputs": [
    {
     "name": "stdout",
     "output_type": "stream",
     "text": [
      "성적 중 최저 성적을 가진 학생은 3번 학생으로 65점 입니다\n"
     ]
    }
   ],
   "source": [
    "\"\"\"\n",
    "1. 학생의 인덱스를 어떻게 나타낼 것인가\n",
    "\"\"\"\n",
    "min_score = score_list[number-1]\n",
    "\n",
    "for i in range(len(score_list)-1):\n",
    "    if score_list[i] < min_score:\n",
    "        min_score = score_list[i]\n",
    "        min_stu_idx = i+1\n",
    "        \n",
    "print(\"성적 중 최저 성적을 가진 학생은 %d번 학생으로 %d점 입니다\" % (min_stu_idx, min_score))"
   ]
  },
  {
   "cell_type": "code",
   "execution_count": 20,
   "id": "73a28ed5",
   "metadata": {},
   "outputs": [
    {
     "name": "stdout",
     "output_type": "stream",
     "text": [
      "성적 중 최저 성적을 가진 학생은 1번 학생으로 100점 입니다\n"
     ]
    }
   ],
   "source": [
    "\"\"\"\n",
    "1. max_score를 리스트의 마지막 값으로 지정하게 되면 문제발생\n",
    "\"\"\"\n",
    "max_score = score_list[number-1]\n",
    "\n",
    "for i in range(len(score_list)-1):\n",
    "    if score_list[i] > max_score:\n",
    "        max_score = score_list[i]\n",
    "        max_stu_idx = i + 1\n",
    "        \n",
    "print(\"성적 중 최고 성적을 가진 학생은 %d번 학생으로 %d점 입니다\" % (max_stu_idx, max_score))"
   ]
  },
  {
   "cell_type": "code",
   "execution_count": 54,
   "id": "96123361",
   "metadata": {
    "scrolled": true
   },
   "outputs": [
    {
     "name": "stdout",
     "output_type": "stream",
     "text": [
      "[90, 70, 65, 80, 100]\n",
      "[90, 70, 65, 80, 100]\n",
      "[0, 1, 2, 3, 4]\n",
      "[90, 70, 65, 80, 100]\n",
      "[100, 90, 80, 70, 65]\n",
      "[4, 0, 3, 1, 2]\n"
     ]
    }
   ],
   "source": [
    "\"\"\"\n",
    "1. 등수 리스트를 만든다\n",
    "2. rank_list = score_list.sort()\n",
    "   print(rank_list)\n",
    "   이렇게 했을때 왜 none이 출력되는지\n",
    "3. 등수를 어떻게 정할까\n",
    "4. 버블 정렬?\n",
    "5. index의 범위가 넘어가지 않도록 하려면?\n",
    "6. 이중for문, 단 해당하는 원소제외\n",
    "7. 자리바꾸기 어떻게 표현?\n",
    "8. 다음 원소가 아닌 모든 원소와 비교\n",
    "\"\"\"\n",
    "\n",
    "rank_list = [score_list[i] for i in range(len(score_list))] # 리스트 내포법 (for문의 결과가 리스트인 경우), score_list -> rank_list copy\n",
    "rank_stu_num = [i for i in range(len(score_list))]\n",
    "#temp_idx = [0 for i in range(len(score_list))]\n",
    "#rank_list = score_list.copy()\n",
    "print(score_list)\n",
    "print(rank_list)\n",
    "print(rank_stu_num)\n",
    "\n",
    "for i in range(1, len(rank_list)):\n",
    "    for j in range(0, len(rank_list)-i):\n",
    "        if rank_list[j] < rank_list[j + 1]:\n",
    "            \n",
    "            # index swap\n",
    "            tmp_idx = rank_stu_num[j]\n",
    "            rank_stu_num[j] = rank_stu_num[j + 1]\n",
    "            rank_stu_num[j + 1] = tmp_idx\n",
    "            \n",
    "            # value swap\n",
    "            tmp = rank_list[j]\n",
    "            rank_list[j] = rank_list[j + 1]\n",
    "            rank_list[j + 1] = tmp\n",
    "               \n",
    "\n",
    "print(score_list)\n",
    "print(rank_list)\n",
    "print(rank_stu_num)\n",
    "# [100, 90, 80, 70, 65]\n",
    "# [5, 1, 4, 2, 3]"
   ]
  },
  {
   "cell_type": "code",
   "execution_count": 58,
   "id": "5270e6c1",
   "metadata": {},
   "outputs": [
    {
     "name": "stdout",
     "output_type": "stream",
     "text": [
      "top 1 => 5번 학생 : 100점\n",
      "top 2 => 1번 학생 : 90점\n",
      "top 3 => 4번 학생 : 80점\n",
      "top 4 => 2번 학생 : 70점\n",
      "top 5 => 3번 학생 : 65점\n"
     ]
    }
   ],
   "source": [
    "for i in range(len(rank_list)):\n",
    "    print(\"top {0} => {1}번 학생 : {2}점\".format(i+1, rank_stu_num[i]+1, rank_list[i]))"
   ]
  },
  {
   "cell_type": "code",
   "execution_count": 8,
   "id": "f80a62cb",
   "metadata": {},
   "outputs": [
    {
     "name": "stdout",
     "output_type": "stream",
     "text": [
      "[70, 65, 80, 90, 100]\n"
     ]
    }
   ],
   "source": [
    "print(score_list)"
   ]
  },
  {
   "cell_type": "code",
   "execution_count": 63,
   "id": "008ae5b7",
   "metadata": {},
   "outputs": [
    {
     "name": "stdout",
     "output_type": "stream",
     "text": [
      "1번 학생 : 90점 => A학점\n",
      "2번 학생 : 70점 => C학점\n",
      "3번 학생 : 65점 => D학점\n",
      "4번 학생 : 80점 => B학점\n",
      "5번 학생 : 100점 => A학점\n"
     ]
    }
   ],
   "source": [
    "gpa = ['' for i in range(len(score_list))]\n",
    "\n",
    "for i in range(len(score_list)):\n",
    "    if score_list[i] >= 90:\n",
    "        gpa[i] = 'A'\n",
    "    elif score_list[i] >= 80:\n",
    "        gpa[i] = 'B'\n",
    "    elif score_list[i] >= 70:\n",
    "        gpa[i] = 'C'\n",
    "    elif score_list[i] >= 60:\n",
    "        gpa[i] = 'D'\n",
    "    else:\n",
    "        gpa[i] = 'F'\n",
    "for i in range(len(score_list)):\n",
    "    print(\"{0}번 학생 : {1}점 => {2}학점\".format(i+1, score_list[i], gpa[i]))"
   ]
  },
  {
   "cell_type": "code",
   "execution_count": null,
   "id": "f13e5c91",
   "metadata": {},
   "outputs": [],
   "source": []
  },
  {
   "cell_type": "code",
   "execution_count": null,
   "id": "25712345",
   "metadata": {},
   "outputs": [],
   "source": []
  }
 ],
 "metadata": {
  "kernelspec": {
   "display_name": "Python 3",
   "language": "python",
   "name": "python3"
  },
  "language_info": {
   "codemirror_mode": {
    "name": "ipython",
    "version": 3
   },
   "file_extension": ".py",
   "mimetype": "text/x-python",
   "name": "python",
   "nbconvert_exporter": "python",
   "pygments_lexer": "ipython3",
   "version": "3.8.8"
  }
 },
 "nbformat": 4,
 "nbformat_minor": 5
}

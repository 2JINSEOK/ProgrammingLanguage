{
 "cells": [
  {
   "cell_type": "code",
   "execution_count": 7,
   "id": "790e29ee",
   "metadata": {},
   "outputs": [
    {
     "name": "stdout",
     "output_type": "stream",
     "text": [
      "hello\n",
      "hello\n"
     ]
    }
   ],
   "source": [
    "print(\"hello\")\n",
    "print(\"hello\")"
   ]
  },
  {
   "cell_type": "code",
   "execution_count": 8,
   "id": "57d4e428",
   "metadata": {},
   "outputs": [
    {
     "name": "stdout",
     "output_type": "stream",
     "text": [
      "hello\n"
     ]
    }
   ],
   "source": [
    "print(\"hello\")"
   ]
  },
  {
   "cell_type": "code",
   "execution_count": 10,
   "id": "c4428df1",
   "metadata": {},
   "outputs": [
    {
     "name": "stdout",
     "output_type": "stream",
     "text": [
      "3\n",
      "abcdef\n"
     ]
    }
   ],
   "source": [
    "def add(a, b):\n",
    "    return a + b\n",
    "\n",
    "print(add(1, 2))\n",
    "print(add(\"abc\", \"def\"))"
   ]
  },
  {
   "cell_type": "code",
   "execution_count": 12,
   "id": "2563a99a",
   "metadata": {},
   "outputs": [
    {
     "data": {
      "text/plain": [
       "'\\nasdasdasd\\nasdasdasdasd\\nasdasd\\n\\n'"
      ]
     },
     "execution_count": 12,
     "metadata": {},
     "output_type": "execute_result"
    }
   ],
   "source": [
    "# comment\n",
    "\"\"\"\n",
    "asdasdasd\n",
    "asdasdasdasd\n",
    "asdasd\n",
    "\n",
    "\"\"\""
   ]
  },
  {
   "cell_type": "code",
   "execution_count": 13,
   "id": "02ce1b90",
   "metadata": {},
   "outputs": [],
   "source": [
    "a = \"asdasdasd\""
   ]
  },
  {
   "cell_type": "code",
   "execution_count": 14,
   "id": "1ccb8202",
   "metadata": {},
   "outputs": [],
   "source": [
    "a = \"\"\"\n",
    "\n",
    "asdasdasd\n",
    "asdadasd\n",
    "asdasd\n",
    "\n",
    "\"\"\""
   ]
  },
  {
   "cell_type": "code",
   "execution_count": 17,
   "id": "5dd551ae",
   "metadata": {},
   "outputs": [
    {
     "name": "stdout",
     "output_type": "stream",
     "text": [
      "0.6\n",
      "27\n",
      "27\n"
     ]
    }
   ],
   "source": [
    "# +, -, *, /, %, ** \n",
    "print(3 / 5) # 정수 / 정수 == > 실수\n",
    "print(3 ** 3)\n",
    "print(pow(3, 3)) "
   ]
  },
  {
   "cell_type": "code",
   "execution_count": 18,
   "id": "167367fd",
   "metadata": {},
   "outputs": [
    {
     "name": "stdout",
     "output_type": "stream",
     "text": [
      "['False', 'None', 'True', 'and', 'as', 'assert', 'async', 'await', 'break', 'class', 'continue', 'def', 'del', 'elif', 'else', 'except', 'finally', 'for', 'from', 'global', 'if', 'import', 'in', 'is', 'lambda', 'nonlocal', 'not', 'or', 'pass', 'raise', 'return', 'try', 'while', 'with', 'yield']\n"
     ]
    }
   ],
   "source": [
    "import keyword\n",
    "\n",
    "print(keyword.kwlist) # 변수명으로 사용불가\n"
   ]
  },
  {
   "cell_type": "code",
   "execution_count": 26,
   "id": "0c2a4ec6",
   "metadata": {},
   "outputs": [
    {
     "name": "stdout",
     "output_type": "stream",
     "text": [
      "100\n",
      "a\n"
     ]
    }
   ],
   "source": [
    "a = 100\n",
    "a = 100\n",
    "print(a)\n",
    "print(\"a\")\n",
    "\n",
    "# a vs \"a\""
   ]
  },
  {
   "cell_type": "code",
   "execution_count": 35,
   "id": "502e4078",
   "metadata": {},
   "outputs": [
    {
     "name": "stdout",
     "output_type": "stream",
     "text": [
      "100\n",
      "<class 'int'>\n"
     ]
    },
    {
     "ename": "NameError",
     "evalue": "name 'a' is not defined",
     "output_type": "error",
     "traceback": [
      "\u001b[1;31m---------------------------------------------------------------------------\u001b[0m",
      "\u001b[1;31mNameError\u001b[0m                                 Traceback (most recent call last)",
      "\u001b[1;32m<ipython-input-35-4a430845037b>\u001b[0m in \u001b[0;36m<module>\u001b[1;34m\u001b[0m\n\u001b[0;32m      3\u001b[0m \u001b[1;33m\u001b[0m\u001b[0m\n\u001b[0;32m      4\u001b[0m \u001b[1;32mdel\u001b[0m \u001b[0ma\u001b[0m\u001b[1;33m\u001b[0m\u001b[1;33m\u001b[0m\u001b[0m\n\u001b[1;32m----> 5\u001b[1;33m \u001b[0mprint\u001b[0m\u001b[1;33m(\u001b[0m\u001b[0ma\u001b[0m\u001b[1;33m)\u001b[0m\u001b[1;33m\u001b[0m\u001b[1;33m\u001b[0m\u001b[0m\n\u001b[0m",
      "\u001b[1;31mNameError\u001b[0m: name 'a' is not defined"
     ]
    }
   ],
   "source": [
    "print(a)\n",
    "print(type(a))\n",
    "\n",
    "del a\n",
    "print(a)"
   ]
  },
  {
   "cell_type": "code",
   "execution_count": 30,
   "id": "934aed56",
   "metadata": {},
   "outputs": [],
   "source": [
    "# 내장 함수 (build-in function)"
   ]
  },
  {
   "cell_type": "code",
   "execution_count": 34,
   "id": "5a3161d5",
   "metadata": {},
   "outputs": [
    {
     "name": "stdout",
     "output_type": "stream",
     "text": [
      "20\n",
      "10\n",
      "10\n",
      "27\n",
      "a\n"
     ]
    }
   ],
   "source": [
    "print(max(10, 20))\n",
    "print(min(10, 20))\n",
    "print(abs(-10))\n",
    "print(pow(3, 3))\n",
    "print(chr(97))"
   ]
  },
  {
   "cell_type": "code",
   "execution_count": 45,
   "id": "73ba6268",
   "metadata": {},
   "outputs": [
    {
     "name": "stdout",
     "output_type": "stream",
     "text": [
      "outer (before): 1 2\n",
      "inner: 2 1\n",
      "outer (after): 2 1\n"
     ]
    }
   ],
   "source": [
    "# why does not change ..?\n",
    "# \n",
    "\n",
    "def swap(x,y):\n",
    "    tmp = y\n",
    "    y = x\n",
    "    x = tmp\n",
    "    print(\"inner:\", x, y)\n",
    "    return x, y\n",
    "\n",
    "a = 1\n",
    "b = 2\n",
    "print(\"outer (before):\", a, b)\n",
    "a, b = swap(a, b)\n",
    "print(\"outer (after):\", a, b)"
   ]
  },
  {
   "cell_type": "code",
   "execution_count": 48,
   "id": "16f426cc",
   "metadata": {},
   "outputs": [
    {
     "name": "stdout",
     "output_type": "stream",
     "text": [
      "2 1\n"
     ]
    }
   ],
   "source": [
    "a = 1\n",
    "b = 2\n",
    "a, b = b, a # 동시 치환 가능\n",
    "print(a, b)"
   ]
  },
  {
   "cell_type": "code",
   "execution_count": 49,
   "id": "559b3de1",
   "metadata": {},
   "outputs": [
    {
     "name": "stdout",
     "output_type": "stream",
     "text": [
      "20\n"
     ]
    }
   ],
   "source": [
    "a = 10\n",
    "a += 10\n",
    "print(a)"
   ]
  },
  {
   "cell_type": "code",
   "execution_count": 50,
   "id": "2a4b4cda",
   "metadata": {},
   "outputs": [
    {
     "name": "stdout",
     "output_type": "stream",
     "text": [
      "abcdef\n"
     ]
    }
   ],
   "source": [
    "a = \"abc\"\n",
    "a += \"def\"\n",
    "print(a) # \"abc\" + \"def\""
   ]
  },
  {
   "cell_type": "code",
   "execution_count": 54,
   "id": "8be00886",
   "metadata": {},
   "outputs": [
    {
     "name": "stdout",
     "output_type": "stream",
     "text": [
      "name ? a\n",
      "a\n",
      "<class 'str'>\n"
     ]
    }
   ],
   "source": [
    "# console input\n",
    "name = input(\"name ? \")\n",
    "print(name)\n",
    "print(type(name))\n"
   ]
  },
  {
   "cell_type": "code",
   "execution_count": 60,
   "id": "05668bd2",
   "metadata": {},
   "outputs": [
    {
     "name": "stdout",
     "output_type": "stream",
     "text": [
      "<class 'int'>\n",
      "<class 'float'>\n",
      "<class 'str'>\n",
      "<class 'str'>\n",
      "<class 'bool'>\n",
      "<class 'bool'>\n"
     ]
    }
   ],
   "source": [
    "# data type\n",
    "# there is no chracter in python\n",
    "# k is also string\n",
    "\n",
    "print(type(3)) # int\n",
    "print(type(3.00000)) # float\n",
    "print(type('k')) # str\n",
    "print(type(\"k\")) # str\n",
    "print(type(True)) # bool\n",
    "print(type(False)) # bool"
   ]
  },
  {
   "cell_type": "code",
   "execution_count": 66,
   "id": "31ac38f1",
   "metadata": {},
   "outputs": [
    {
     "name": "stdout",
     "output_type": "stream",
     "text": [
      "age ? 30\n",
      "30\n",
      "<class 'int'>\n"
     ]
    }
   ],
   "source": [
    "# console input\n",
    "age = int(input(\"age ? \")) # input by user --> string\n",
    "print(age)\n",
    "print(type(age))"
   ]
  },
  {
   "cell_type": "code",
   "execution_count": 69,
   "id": "b40b71cc",
   "metadata": {},
   "outputs": [],
   "source": [
    "? int"
   ]
  },
  {
   "cell_type": "code",
   "execution_count": 73,
   "id": "71f2b8e4",
   "metadata": {},
   "outputs": [
    {
     "name": "stdout",
     "output_type": "stream",
     "text": [
      "12sally\n"
     ]
    }
   ],
   "source": [
    "print(\"12\" + \"sally\") # ?\n",
    "\n",
    "# 12 vs \"12\"\n",
    "# a vs \"a\"\n",
    "# 3 vs 3.0"
   ]
  },
  {
   "cell_type": "code",
   "execution_count": 76,
   "id": "b5f02057",
   "metadata": {},
   "outputs": [],
   "source": [
    "# string"
   ]
  },
  {
   "cell_type": "code",
   "execution_count": 86,
   "id": "38e8cd7f",
   "metadata": {},
   "outputs": [
    {
     "name": "stdout",
     "output_type": "stream",
     "text": [
      "h\n",
      "e\n",
      "d\n",
      "hel\n",
      "hlowrd\n",
      "\n",
      "dlrow olleh\n"
     ]
    }
   ],
   "source": [
    "str = \"hello world\"\n",
    "\n",
    "# indexing\n",
    "print(str[0])\n",
    "print(str[1])\n",
    "print(str[-1])\n",
    "\n",
    "# slicing (substring)\n",
    "# [start:stop(excluded):step]\n",
    "print(str[0:3]) # 0 ~ 2\n",
    "print(str[0:len(str):2])\n",
    "print(str[-1:-3]) # not working\n",
    "print(str[::-1]) # popular"
   ]
  },
  {
   "cell_type": "code",
   "execution_count": 92,
   "id": "07aeca27",
   "metadata": {},
   "outputs": [
    {
     "name": "stdout",
     "output_type": "stream",
     "text": [
      "hellohellohello\n",
      "--------------------------------------------------\n"
     ]
    }
   ],
   "source": [
    "print(\"hello\" * 3)\n",
    "print(\"-\" * 50)"
   ]
  },
  {
   "cell_type": "code",
   "execution_count": 97,
   "id": "3d0b9cfb",
   "metadata": {},
   "outputs": [
    {
     "name": "stdout",
     "output_type": "stream",
     "text": [
      "True\n",
      "False\n",
      "True\n",
      "11\n"
     ]
    }
   ],
   "source": [
    "# membership test (in, not in)\n",
    "s = \"hello world\"\n",
    "print('h' in s) # true\n",
    "print('H' in s)\n",
    "print('world' in s)\n",
    "print(len(s))\n",
    "\n",
    "# function()"
   ]
  },
  {
   "cell_type": "code",
   "execution_count": null,
   "id": "b876bab0",
   "metadata": {},
   "outputs": [],
   "source": [
    "print(type(True)) # bool"
   ]
  }
 ],
 "metadata": {
  "kernelspec": {
   "display_name": "Python 3",
   "language": "python",
   "name": "python3"
  },
  "language_info": {
   "codemirror_mode": {
    "name": "ipython",
    "version": 3
   },
   "file_extension": ".py",
   "mimetype": "text/x-python",
   "name": "python",
   "nbconvert_exporter": "python",
   "pygments_lexer": "ipython3",
   "version": "3.8.8"
  }
 },
 "nbformat": 4,
 "nbformat_minor": 5
}

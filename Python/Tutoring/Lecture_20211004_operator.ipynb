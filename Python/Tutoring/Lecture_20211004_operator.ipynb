{
 "cells": [
  {
   "cell_type": "markdown",
   "id": "fec00b2f",
   "metadata": {},
   "source": [
    "# 연산자 (operator)"
   ]
  },
  {
   "cell_type": "code",
   "execution_count": 4,
   "id": "1278f430",
   "metadata": {},
   "outputs": [
    {
     "name": "stdout",
     "output_type": "stream",
     "text": [
      "0.6\n",
      "27\n",
      "27\n",
      "0\n",
      "3\n",
      "(0, 3)\n"
     ]
    }
   ],
   "source": [
    "# 산술 연산자\n",
    "\n",
    "# +, -. *, /, %, ** (pow), // (몫)\n",
    "\n",
    "print(3 / 5) # 정수 / 정수 == 실수 (0.6)\n",
    "print(3 ** 3)\n",
    "print(pow(3, 3))\n",
    "print(3 // 5) \n",
    "print(3 % 5) \n",
    "print(divmod(3, 5)) # (몫 , 나머지)"
   ]
  },
  {
   "cell_type": "code",
   "execution_count": 5,
   "id": "37c9af16",
   "metadata": {},
   "outputs": [],
   "source": [
    "# 관계 연산자 (>, <, >=, <=)\n",
    "# 논리 연산자 (&&. ||. ! -> and, or, not)"
   ]
  },
  {
   "cell_type": "code",
   "execution_count": 7,
   "id": "1f66e1b1",
   "metadata": {},
   "outputs": [
    {
     "name": "stdout",
     "output_type": "stream",
     "text": [
      "True\n",
      "True\n"
     ]
    }
   ],
   "source": [
    "a = 10\n",
    "# 5 < a < 20\n",
    "\n",
    "print(a > 5 and a < 20)\n",
    "print(5 < a < 20)"
   ]
  },
  {
   "cell_type": "code",
   "execution_count": 9,
   "id": "71f6ad83",
   "metadata": {},
   "outputs": [
    {
     "name": "stdout",
     "output_type": "stream",
     "text": [
      "if\n"
     ]
    }
   ],
   "source": [
    "# 평서문\n",
    "# 반복문\n",
    "# 조건문\n",
    "\n",
    "\n",
    "a = 1\n",
    "\n",
    "if a < 10:\n",
    "    print('if')"
   ]
  },
  {
   "cell_type": "code",
   "execution_count": 13,
   "id": "aa6f5c08",
   "metadata": {},
   "outputs": [
    {
     "name": "stdout",
     "output_type": "stream",
     "text": [
      "False\n"
     ]
    }
   ],
   "source": [
    "print(not(a == 1)) # True\n",
    "\n",
    "\n",
    "# c boolean\n",
    "# a == 1: 0이 아닌 수 (1)\n",
    "# a == 2 : 0"
   ]
  },
  {
   "cell_type": "code",
   "execution_count": null,
   "id": "7b4a57ab",
   "metadata": {},
   "outputs": [],
   "source": []
  }
 ],
 "metadata": {
  "kernelspec": {
   "display_name": "Python 3",
   "language": "python",
   "name": "python3"
  },
  "language_info": {
   "codemirror_mode": {
    "name": "ipython",
    "version": 3
   },
   "file_extension": ".py",
   "mimetype": "text/x-python",
   "name": "python",
   "nbconvert_exporter": "python",
   "pygments_lexer": "ipython3",
   "version": "3.8.8"
  }
 },
 "nbformat": 4,
 "nbformat_minor": 5
}

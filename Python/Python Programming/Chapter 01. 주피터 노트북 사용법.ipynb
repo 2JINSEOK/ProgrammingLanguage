{
 "cells": [
  {
   "cell_type": "markdown",
   "id": "ea66f7c2",
   "metadata": {},
   "source": [
    "# #이 한 개면 큰 타이틀\n",
    "## #이 두 개면 작은 타이틀"
   ]
  },
  {
   "cell_type": "markdown",
   "id": "00533c4b",
   "metadata": {},
   "source": [
    "** **는 볼드체로 바뀐다.**\n",
    "* *는 글씨체를 기울인다.*\n",
    "\n",
    "```python\n",
    "a = 10\n",
    "print(a)\n",
    "```"
   ]
  },
  {
   "cell_type": "code",
   "execution_count": 5,
   "id": "9ec96fd3",
   "metadata": {},
   "outputs": [
    {
     "name": "stdout",
     "output_type": "stream",
     "text": [
      "10\n"
     ]
    }
   ],
   "source": [
    "a = 10\n",
    "print(a)"
   ]
  },
  {
   "cell_type": "code",
   "execution_count": null,
   "id": "4df5f11d",
   "metadata": {},
   "outputs": [],
   "source": []
  },
  {
   "cell_type": "code",
   "execution_count": 2,
   "id": "41eca64e",
   "metadata": {},
   "outputs": [],
   "source": [
    "### 주석"
   ]
  },
  {
   "cell_type": "code",
   "execution_count": null,
   "id": "c0de4721",
   "metadata": {},
   "outputs": [],
   "source": []
  }
 ],
 "metadata": {
  "kernelspec": {
   "display_name": "Python 3",
   "language": "python",
   "name": "python3"
  },
  "language_info": {
   "codemirror_mode": {
    "name": "ipython",
    "version": 3
   },
   "file_extension": ".py",
   "mimetype": "text/x-python",
   "name": "python",
   "nbconvert_exporter": "python",
   "pygments_lexer": "ipython3",
   "version": "3.8.8"
  }
 },
 "nbformat": 4,
 "nbformat_minor": 5
}
